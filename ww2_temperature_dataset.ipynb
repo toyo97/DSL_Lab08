{
 "cells": [
  {
   "cell_type": "markdown",
   "metadata": {
    "collapsed": true,
    "pycharm": {
     "name": "#%% md\n"
    }
   },
   "source": [
    "# World War Weather dataset"
   ]
  },
  {
   "cell_type": "code",
   "execution_count": 1,
   "metadata": {},
   "outputs": [],
   "source": [
    "import matplotlib.pyplot as plt\n",
    "%matplotlib inline"
   ]
  },
  {
   "cell_type": "code",
   "execution_count": 2,
   "metadata": {
    "pycharm": {
     "is_executing": false,
     "name": "#%%\n"
    }
   },
   "outputs": [],
   "source": [
    "import os\n",
    "source_dir = os.path.abspath('data')"
   ]
  },
  {
   "cell_type": "code",
   "execution_count": 3,
   "metadata": {
    "pycharm": {
     "is_executing": false,
     "name": "#%%\n"
    }
   },
   "outputs": [
    {
     "name": "stderr",
     "output_type": "stream",
     "text": [
      "/home/toyo/.local/lib/python3.6/site-packages/IPython/core/interactiveshell.py:3058: DtypeWarning: Columns (7,8,18,25) have mixed types. Specify dtype option on import or set low_memory=False.\n",
      "  interactivity=interactivity, compiler=compiler, result=result)\n"
     ]
    }
   ],
   "source": [
    "import pandas as pd\n",
    "df = pd.read_csv(os.path.join(source_dir, 'SummaryofWeather.csv'))"
   ]
  },
  {
   "cell_type": "code",
   "execution_count": 4,
   "metadata": {
    "pycharm": {
     "is_executing": false,
     "name": "#%%\n"
    }
   },
   "outputs": [],
   "source": [
    "num_cols = ['STA', 'MaxTemp', 'MinTemp', 'MeanTemp']\n",
    "str_cols = ['Date']\n",
    "df_reduced = df[num_cols + str_cols]"
   ]
  },
  {
   "cell_type": "code",
   "execution_count": 5,
   "metadata": {
    "pycharm": {
     "is_executing": false,
     "name": "#%%\n"
    }
   },
   "outputs": [
    {
     "name": "stdout",
     "output_type": "stream",
     "text": [
      "Number of missing values: 1834179\n"
     ]
    }
   ],
   "source": [
    "import numpy as np\n",
    "\n",
    "print(f'Number of missing values: {np.sum(df.isnull().values)}')\n"
   ]
  },
  {
   "cell_type": "markdown",
   "metadata": {
    "pycharm": {
     "name": "#%%\n"
    }
   },
   "source": [
    "Find the 10 most complete sensors and pick the mean of the mean temperatures\n"
   ]
  },
  {
   "cell_type": "code",
   "execution_count": 6,
   "metadata": {},
   "outputs": [
    {
     "data": {
      "text/plain": [
       "STA\n",
       "12706    25.247657\n",
       "33121    27.606838\n",
       "33123    15.271868\n",
       "34003    20.354267\n",
       "34101     7.150538\n",
       "34105    16.366120\n",
       "42206    18.855556\n",
       "43302     7.714026\n",
       "43307     6.328502\n",
       "44401    -1.220401\n",
       "Name: MeanTemp, dtype: float64"
      ]
     },
     "execution_count": 6,
     "metadata": {},
     "output_type": "execute_result"
    }
   ],
   "source": [
    "df.loc[df['STA'].isin(df.isnull().groupby([df['STA']]).sum().astype(int).sum(axis=1).sort_values().head(10).index.values.tolist())].groupby(['STA']).mean()['MeanTemp']"
   ]
  },
  {
   "cell_type": "code",
   "execution_count": 7,
   "metadata": {},
   "outputs": [],
   "source": [
    "red_df = df[df['STA'] == 22508]\n",
    "red_df = red_df[num_cols + str_cols]\n",
    "red_df = red_df.reset_index()"
   ]
  },
  {
   "cell_type": "code",
   "execution_count": 8,
   "metadata": {},
   "outputs": [
    {
     "name": "stderr",
     "output_type": "stream",
     "text": [
      "/home/toyo/.local/lib/python3.6/site-packages/pandas/plotting/_matplotlib/converter.py:103: FutureWarning: Using an implicitly registered datetime converter for a matplotlib plotting method. The converter was registered by pandas on import. Future versions of pandas will require you to explicitly register matplotlib converters.\n",
      "\n",
      "To register the converters:\n",
      "\t>>> from pandas.plotting import register_matplotlib_converters\n",
      "\t>>> register_matplotlib_converters()\n",
      "  warnings.warn(msg, FutureWarning)\n"
     ]
    },
    {
     "data": {
      "image/png": "[encoded data removed]",
      "text/plain": [
       "<Figure size 432x288 with 1 Axes>"
      ]
     },
     "metadata": {
      "needs_background": "light"
     },
     "output_type": "display_data"
    }
   ],
   "source": [
    "plt.plot(pd.to_datetime(red_df['Date']).values, red_df['MeanTemp'].values)\n",
    "plt.show()"
   ]
  },
  {
   "cell_type": "code",
   "execution_count": 9,
   "metadata": {},
   "outputs": [],
   "source": [
    "def gen_structured_ds(df, W=365, col_name='MeanTemp'):\n",
    "    T = df.shape[0]\n",
    "    X = np.zeros((T-W,W+1))\n",
    "    for t in range(T-W):\n",
    "        X[t,:] = df[col_name].iloc[list(range(t,t+W+1))].values\n",
    "    \n",
    "    return X\n"
   ]
  },
  {
   "cell_type": "code",
   "execution_count": 10,
   "metadata": {},
   "outputs": [],
   "source": [
    "ds = gen_structured_ds(red_df)\n",
    "X, y = ds[:,:ds.shape[1]-1], ds[:,ds.shape[1]-1]"
   ]
  },
  {
   "cell_type": "code",
   "execution_count": 20,
   "metadata": {},
   "outputs": [],
   "source": [
    "from sklearn.model_selection import TimeSeriesSplit\n",
    "\n",
    "tscv = TimeSeriesSplit(n_splits=5)"
   ]
  },
  {
   "cell_type": "code",
   "execution_count": 22,
   "metadata": {},
   "outputs": [
    {
     "data": {
      "text/plain": [
       "{'fit_time': array([0.09714866, 0.14850235, 0.19289589, 0.23397946, 0.22060418]),\n",
       " 'score_time': array([0.00906873, 0.00392938, 0.01181865, 0.02092195, 0.0134232 ]),\n",
       " 'test_r2': array([-0.87612671,  0.43680813,  0.63643353,  0.63583251,  0.58489116]),\n",
       " 'test_neg_mean_squared_error': array([-7.90946967, -1.88945341, -1.04646412, -0.63591305, -0.85393563])}"
      ]
     },
     "execution_count": 22,
     "metadata": {},
     "output_type": "execute_result"
    }
   ],
   "source": [
    "from sklearn.model_selection import GridSearchCV, cross_validate\n",
    "from sklearn.linear_model import LinearRegression, Lasso, LassoCV\n",
    "from sklearn.preprocessing import PolynomialFeatures\n",
    "from sklearn.pipeline import make_pipeline\n",
    "\n",
    "lin_scores = cross_validate(LinearRegression(), X, y, cv=tscv,\n",
    "               scoring=('r2', 'neg_mean_squared_error'))\n",
    "lin_scores"
   ]
  },
  {
   "cell_type": "code",
   "execution_count": 25,
   "metadata": {},
   "outputs": [
    {
     "data": {
      "text/plain": [
       "{'fit_time': array([0.01259398, 0.02575946, 0.02714276, 0.03514338, 0.0316608 ]),\n",
       " 'score_time': array([0.01040077, 0.00738192, 0.00396657, 0.00401711, 0.0021894 ]),\n",
       " 'test_r2': array([0.75647125, 0.68501909, 0.69339464, 0.6018144 , 0.52673299]),\n",
       " 'test_neg_mean_squared_error': array([-1.02668078, -1.05673003, -0.88251127, -0.69531583, -0.97357494])}"
      ]
     },
     "execution_count": 25,
     "metadata": {},
     "output_type": "execute_result"
    }
   ],
   "source": [
    "lasso_scores = cross_validate(Lasso(tol=0.02), X, y, cv=tscv,\n",
    "                             scoring=('r2', 'neg_mean_squared_error'))\n",
    "lasso_scores\n"
   ]
  },
  {
   "cell_type": "code",
   "execution_count": 24,
   "metadata": {},
   "outputs": [
    {
     "name": "stderr",
     "output_type": "stream",
     "text": [
      "/home/toyo/.local/lib/python3.6/site-packages/sklearn/svm/base.py:193: FutureWarning: The default value of gamma will change from 'auto' to 'scale' in version 0.22 to account better for unscaled features. Set gamma explicitly to 'auto' or 'scale' to avoid this warning.\n",
      "  \"avoid this warning.\", FutureWarning)\n",
      "/home/toyo/.local/lib/python3.6/site-packages/sklearn/svm/base.py:193: FutureWarning: The default value of gamma will change from 'auto' to 'scale' in version 0.22 to account better for unscaled features. Set gamma explicitly to 'auto' or 'scale' to avoid this warning.\n",
      "  \"avoid this warning.\", FutureWarning)\n",
      "/home/toyo/.local/lib/python3.6/site-packages/sklearn/svm/base.py:193: FutureWarning: The default value of gamma will change from 'auto' to 'scale' in version 0.22 to account better for unscaled features. Set gamma explicitly to 'auto' or 'scale' to avoid this warning.\n",
      "  \"avoid this warning.\", FutureWarning)\n",
      "/home/toyo/.local/lib/python3.6/site-packages/sklearn/svm/base.py:193: FutureWarning: The default value of gamma will change from 'auto' to 'scale' in version 0.22 to account better for unscaled features. Set gamma explicitly to 'auto' or 'scale' to avoid this warning.\n",
      "  \"avoid this warning.\", FutureWarning)\n",
      "/home/toyo/.local/lib/python3.6/site-packages/sklearn/svm/base.py:193: FutureWarning: The default value of gamma will change from 'auto' to 'scale' in version 0.22 to account better for unscaled features. Set gamma explicitly to 'auto' or 'scale' to avoid this warning.\n",
      "  \"avoid this warning.\", FutureWarning)\n"
     ]
    },
    {
     "data": {
      "text/plain": [
       "{'fit_time': array([0.08609653, 0.29825401, 0.6713376 , 1.24380398, 1.82341075]),\n",
       " 'score_time': array([0.12109375, 0.25936007, 0.39272857, 0.54116774, 0.63737369]),\n",
       " 'test_r2': array([0.39433525, 0.40160041, 0.60552841, 0.06885948, 0.54202119]),\n",
       " 'test_neg_mean_squared_error': array([-2.553392  , -2.00757184, -1.13541924, -1.62596724, -0.94212502])}"
      ]
     },
     "execution_count": 24,
     "metadata": {},
     "output_type": "execute_result"
    }
   ],
   "source": [
    "from sklearn.svm import SVR\n",
    "\n",
    "svr_scores = cross_validate(SVR(), X, y, cv=tscv,\n",
    "                           scoring=('r2', 'neg_mean_squared_error'))\n",
    "svr_scores"
   ]
  },
  {
   "cell_type": "code",
   "execution_count": 27,
   "metadata": {},
   "outputs": [
    {
     "name": "stdout",
     "output_type": "stream",
     "text": [
      "Fitting 5 folds for each of 20 candidates, totalling 100 fits\n",
      "[CV] C=1.0, gamma=0.01 ...............................................\n",
      "[CV] ................................ C=1.0, gamma=0.01, total=   0.2s\n",
      "[CV] C=1.0, gamma=0.01 ...............................................\n"
     ]
    },
    {
     "name": "stderr",
     "output_type": "stream",
     "text": [
      "[Parallel(n_jobs=1)]: Using backend SequentialBackend with 1 concurrent workers.\n",
      "[Parallel(n_jobs=1)]: Done   1 out of   1 | elapsed:    0.2s remaining:    0.0s\n"
     ]
    },
    {
     "name": "stdout",
     "output_type": "stream",
     "text": [
      "[CV] ................................ C=1.0, gamma=0.01, total=   0.4s\n",
      "[CV] C=1.0, gamma=0.01 ...............................................\n",
      "[CV] ................................ C=1.0, gamma=0.01, total=   0.9s\n",
      "[CV] C=1.0, gamma=0.01 ...............................................\n",
      "[CV] ................................ C=1.0, gamma=0.01, total=   1.4s\n",
      "[CV] C=1.0, gamma=0.01 ...............................................\n",
      "[CV] ................................ C=1.0, gamma=0.01, total=   2.1s\n",
      "[CV] C=1.0, gamma=0.1 ................................................\n",
      "[CV] ................................. C=1.0, gamma=0.1, total=   0.2s\n",
      "[CV] C=1.0, gamma=0.1 ................................................\n",
      "[CV] ................................. C=1.0, gamma=0.1, total=   0.5s\n",
      "[CV] C=1.0, gamma=0.1 ................................................\n",
      "[CV] ................................. C=1.0, gamma=0.1, total=   0.9s\n",
      "[CV] C=1.0, gamma=0.1 ................................................\n",
      "[CV] ................................. C=1.0, gamma=0.1, total=   1.7s\n",
      "[CV] C=1.0, gamma=0.1 ................................................\n",
      "[CV] ................................. C=1.0, gamma=0.1, total=   2.4s\n",
      "[CV] C=1.0, gamma=1.0 ................................................\n",
      "[CV] ................................. C=1.0, gamma=1.0, total=   0.2s\n",
      "[CV] C=1.0, gamma=1.0 ................................................\n",
      "[CV] ................................. C=1.0, gamma=1.0, total=   0.5s\n",
      "[CV] C=1.0, gamma=1.0 ................................................\n",
      "[CV] ................................. C=1.0, gamma=1.0, total=   0.9s\n",
      "[CV] C=1.0, gamma=1.0 ................................................\n",
      "[CV] ................................. C=1.0, gamma=1.0, total=   1.5s\n",
      "[CV] C=1.0, gamma=1.0 ................................................\n",
      "[CV] ................................. C=1.0, gamma=1.0, total=   2.3s\n",
      "[CV] C=1.0, gamma=10.0 ...............................................\n",
      "[CV] ................................ C=1.0, gamma=10.0, total=   0.1s\n",
      "[CV] C=1.0, gamma=10.0 ...............................................\n",
      "[CV] ................................ C=1.0, gamma=10.0, total=   0.4s\n",
      "[CV] C=1.0, gamma=10.0 ...............................................\n",
      "[CV] ................................ C=1.0, gamma=10.0, total=   0.9s\n",
      "[CV] C=1.0, gamma=10.0 ...............................................\n",
      "[CV] ................................ C=1.0, gamma=10.0, total=   1.5s\n",
      "[CV] C=1.0, gamma=10.0 ...............................................\n",
      "[CV] ................................ C=1.0, gamma=10.0, total=   2.3s\n",
      "[CV] C=1.0, gamma=100.0 ..............................................\n",
      "[CV] ............................... C=1.0, gamma=100.0, total=   0.2s\n",
      "[CV] C=1.0, gamma=100.0 ..............................................\n",
      "[CV] ............................... C=1.0, gamma=100.0, total=   0.5s\n",
      "[CV] C=1.0, gamma=100.0 ..............................................\n",
      "[CV] ............................... C=1.0, gamma=100.0, total=   1.0s\n",
      "[CV] C=1.0, gamma=100.0 ..............................................\n",
      "[CV] ............................... C=1.0, gamma=100.0, total=   1.6s\n",
      "[CV] C=1.0, gamma=100.0 ..............................................\n",
      "[CV] ............................... C=1.0, gamma=100.0, total=   2.2s\n",
      "[CV] C=10.0, gamma=0.01 ..............................................\n",
      "[CV] ............................... C=10.0, gamma=0.01, total=   0.1s\n",
      "[CV] C=10.0, gamma=0.01 ..............................................\n",
      "[CV] ............................... C=10.0, gamma=0.01, total=   0.5s\n",
      "[CV] C=10.0, gamma=0.01 ..............................................\n",
      "[CV] ............................... C=10.0, gamma=0.01, total=   1.0s\n",
      "[CV] C=10.0, gamma=0.01 ..............................................\n",
      "[CV] ............................... C=10.0, gamma=0.01, total=   1.7s\n",
      "[CV] C=10.0, gamma=0.01 ..............................................\n",
      "[CV] ............................... C=10.0, gamma=0.01, total=   2.4s\n",
      "[CV] C=10.0, gamma=0.1 ...............................................\n",
      "[CV] ................................ C=10.0, gamma=0.1, total=   0.2s\n",
      "[CV] C=10.0, gamma=0.1 ...............................................\n",
      "[CV] ................................ C=10.0, gamma=0.1, total=   0.6s\n",
      "[CV] C=10.0, gamma=0.1 ...............................................\n",
      "[CV] ................................ C=10.0, gamma=0.1, total=   1.2s\n",
      "[CV] C=10.0, gamma=0.1 ...............................................\n",
      "[CV] ................................ C=10.0, gamma=0.1, total=   1.8s\n",
      "[CV] C=10.0, gamma=0.1 ...............................................\n",
      "[CV] ................................ C=10.0, gamma=0.1, total=   2.7s\n",
      "[CV] C=10.0, gamma=1.0 ...............................................\n",
      "[CV] ................................ C=10.0, gamma=1.0, total=   0.1s\n",
      "[CV] C=10.0, gamma=1.0 ...............................................\n",
      "[CV] ................................ C=10.0, gamma=1.0, total=   0.5s\n",
      "[CV] C=10.0, gamma=1.0 ...............................................\n",
      "[CV] ................................ C=10.0, gamma=1.0, total=   1.0s\n",
      "[CV] C=10.0, gamma=1.0 ...............................................\n",
      "[CV] ................................ C=10.0, gamma=1.0, total=   1.7s\n",
      "[CV] C=10.0, gamma=1.0 ...............................................\n",
      "[CV] ................................ C=10.0, gamma=1.0, total=   2.5s\n",
      "[CV] C=10.0, gamma=10.0 ..............................................\n",
      "[CV] ............................... C=10.0, gamma=10.0, total=   0.1s\n",
      "[CV] C=10.0, gamma=10.0 ..............................................\n",
      "[CV] ............................... C=10.0, gamma=10.0, total=   0.5s\n",
      "[CV] C=10.0, gamma=10.0 ..............................................\n",
      "[CV] ............................... C=10.0, gamma=10.0, total=   1.1s\n",
      "[CV] C=10.0, gamma=10.0 ..............................................\n",
      "[CV] ............................... C=10.0, gamma=10.0, total=   1.7s\n",
      "[CV] C=10.0, gamma=10.0 ..............................................\n",
      "[CV] ............................... C=10.0, gamma=10.0, total=   2.3s\n",
      "[CV] C=10.0, gamma=100.0 .............................................\n",
      "[CV] .............................. C=10.0, gamma=100.0, total=   0.1s\n",
      "[CV] C=10.0, gamma=100.0 .............................................\n",
      "[CV] .............................. C=10.0, gamma=100.0, total=   0.5s\n",
      "[CV] C=10.0, gamma=100.0 .............................................\n",
      "[CV] .............................. C=10.0, gamma=100.0, total=   1.0s\n",
      "[CV] C=10.0, gamma=100.0 .............................................\n",
      "[CV] .............................. C=10.0, gamma=100.0, total=   1.6s\n",
      "[CV] C=10.0, gamma=100.0 .............................................\n",
      "[CV] .............................. C=10.0, gamma=100.0, total=   2.5s\n",
      "[CV] C=100.0, gamma=0.01 .............................................\n",
      "[CV] .............................. C=100.0, gamma=0.01, total=   0.1s\n",
      "[CV] C=100.0, gamma=0.01 .............................................\n",
      "[CV] .............................. C=100.0, gamma=0.01, total=   0.5s\n",
      "[CV] C=100.0, gamma=0.01 .............................................\n",
      "[CV] .............................. C=100.0, gamma=0.01, total=   0.9s\n",
      "[CV] C=100.0, gamma=0.01 .............................................\n",
      "[CV] .............................. C=100.0, gamma=0.01, total=   1.5s\n",
      "[CV] C=100.0, gamma=0.01 .............................................\n",
      "[CV] .............................. C=100.0, gamma=0.01, total=   2.2s\n",
      "[CV] C=100.0, gamma=0.1 ..............................................\n",
      "[CV] ............................... C=100.0, gamma=0.1, total=   0.1s\n",
      "[CV] C=100.0, gamma=0.1 ..............................................\n",
      "[CV] ............................... C=100.0, gamma=0.1, total=   0.5s\n",
      "[CV] C=100.0, gamma=0.1 ..............................................\n",
      "[CV] ............................... C=100.0, gamma=0.1, total=   1.0s\n",
      "[CV] C=100.0, gamma=0.1 ..............................................\n",
      "[CV] ............................... C=100.0, gamma=0.1, total=   1.7s\n",
      "[CV] C=100.0, gamma=0.1 ..............................................\n"
     ]
    },
    {
     "name": "stdout",
     "output_type": "stream",
     "text": [
      "[CV] ............................... C=100.0, gamma=0.1, total=   2.6s\n",
      "[CV] C=100.0, gamma=1.0 ..............................................\n",
      "[CV] ............................... C=100.0, gamma=1.0, total=   0.1s\n",
      "[CV] C=100.0, gamma=1.0 ..............................................\n",
      "[CV] ............................... C=100.0, gamma=1.0, total=   0.5s\n",
      "[CV] C=100.0, gamma=1.0 ..............................................\n",
      "[CV] ............................... C=100.0, gamma=1.0, total=   0.9s\n",
      "[CV] C=100.0, gamma=1.0 ..............................................\n",
      "[CV] ............................... C=100.0, gamma=1.0, total=   1.5s\n",
      "[CV] C=100.0, gamma=1.0 ..............................................\n",
      "[CV] ............................... C=100.0, gamma=1.0, total=   2.3s\n",
      "[CV] C=100.0, gamma=10.0 .............................................\n",
      "[CV] .............................. C=100.0, gamma=10.0, total=   0.1s\n",
      "[CV] C=100.0, gamma=10.0 .............................................\n",
      "[CV] .............................. C=100.0, gamma=10.0, total=   0.5s\n",
      "[CV] C=100.0, gamma=10.0 .............................................\n",
      "[CV] .............................. C=100.0, gamma=10.0, total=   0.9s\n",
      "[CV] C=100.0, gamma=10.0 .............................................\n",
      "[CV] .............................. C=100.0, gamma=10.0, total=   1.6s\n",
      "[CV] C=100.0, gamma=10.0 .............................................\n",
      "[CV] .............................. C=100.0, gamma=10.0, total=   2.3s\n",
      "[CV] C=100.0, gamma=100.0 ............................................\n",
      "[CV] ............................. C=100.0, gamma=100.0, total=   0.1s\n",
      "[CV] C=100.0, gamma=100.0 ............................................\n",
      "[CV] ............................. C=100.0, gamma=100.0, total=   0.5s\n",
      "[CV] C=100.0, gamma=100.0 ............................................\n",
      "[CV] ............................. C=100.0, gamma=100.0, total=   0.9s\n",
      "[CV] C=100.0, gamma=100.0 ............................................\n",
      "[CV] ............................. C=100.0, gamma=100.0, total=   1.5s\n",
      "[CV] C=100.0, gamma=100.0 ............................................\n",
      "[CV] ............................. C=100.0, gamma=100.0, total=   2.3s\n",
      "[CV] C=1000.0, gamma=0.01 ............................................\n",
      "[CV] ............................. C=1000.0, gamma=0.01, total=   0.1s\n",
      "[CV] C=1000.0, gamma=0.01 ............................................\n",
      "[CV] ............................. C=1000.0, gamma=0.01, total=   0.5s\n",
      "[CV] C=1000.0, gamma=0.01 ............................................\n",
      "[CV] ............................. C=1000.0, gamma=0.01, total=   0.9s\n",
      "[CV] C=1000.0, gamma=0.01 ............................................\n",
      "[CV] ............................. C=1000.0, gamma=0.01, total=   1.5s\n",
      "[CV] C=1000.0, gamma=0.01 ............................................\n",
      "[CV] ............................. C=1000.0, gamma=0.01, total=   2.2s\n",
      "[CV] C=1000.0, gamma=0.1 .............................................\n",
      "[CV] .............................. C=1000.0, gamma=0.1, total=   0.2s\n",
      "[CV] C=1000.0, gamma=0.1 .............................................\n",
      "[CV] .............................. C=1000.0, gamma=0.1, total=   0.5s\n",
      "[CV] C=1000.0, gamma=0.1 .............................................\n",
      "[CV] .............................. C=1000.0, gamma=0.1, total=   1.0s\n",
      "[CV] C=1000.0, gamma=0.1 .............................................\n",
      "[CV] .............................. C=1000.0, gamma=0.1, total=   1.7s\n",
      "[CV] C=1000.0, gamma=0.1 .............................................\n",
      "[CV] .............................. C=1000.0, gamma=0.1, total=   2.6s\n",
      "[CV] C=1000.0, gamma=1.0 .............................................\n",
      "[CV] .............................. C=1000.0, gamma=1.0, total=   0.1s\n",
      "[CV] C=1000.0, gamma=1.0 .............................................\n",
      "[CV] .............................. C=1000.0, gamma=1.0, total=   0.5s\n",
      "[CV] C=1000.0, gamma=1.0 .............................................\n",
      "[CV] .............................. C=1000.0, gamma=1.0, total=   0.9s\n",
      "[CV] C=1000.0, gamma=1.0 .............................................\n",
      "[CV] .............................. C=1000.0, gamma=1.0, total=   1.6s\n",
      "[CV] C=1000.0, gamma=1.0 .............................................\n",
      "[CV] .............................. C=1000.0, gamma=1.0, total=   2.3s\n",
      "[CV] C=1000.0, gamma=10.0 ............................................\n",
      "[CV] ............................. C=1000.0, gamma=10.0, total=   0.1s\n",
      "[CV] C=1000.0, gamma=10.0 ............................................\n",
      "[CV] ............................. C=1000.0, gamma=10.0, total=   0.5s\n",
      "[CV] C=1000.0, gamma=10.0 ............................................\n",
      "[CV] ............................. C=1000.0, gamma=10.0, total=   1.0s\n",
      "[CV] C=1000.0, gamma=10.0 ............................................\n",
      "[CV] ............................. C=1000.0, gamma=10.0, total=   1.5s\n",
      "[CV] C=1000.0, gamma=10.0 ............................................\n",
      "[CV] ............................. C=1000.0, gamma=10.0, total=   2.3s\n",
      "[CV] C=1000.0, gamma=100.0 ...........................................\n",
      "[CV] ............................ C=1000.0, gamma=100.0, total=   0.1s\n",
      "[CV] C=1000.0, gamma=100.0 ...........................................\n",
      "[CV] ............................ C=1000.0, gamma=100.0, total=   0.4s\n",
      "[CV] C=1000.0, gamma=100.0 ...........................................\n",
      "[CV] ............................ C=1000.0, gamma=100.0, total=   1.0s\n",
      "[CV] C=1000.0, gamma=100.0 ...........................................\n",
      "[CV] ............................ C=1000.0, gamma=100.0, total=   1.5s\n",
      "[CV] C=1000.0, gamma=100.0 ...........................................\n",
      "[CV] ............................ C=1000.0, gamma=100.0, total=   2.3s\n"
     ]
    },
    {
     "name": "stderr",
     "output_type": "stream",
     "text": [
      "[Parallel(n_jobs=1)]: Done 100 out of 100 | elapsed:  1.8min finished\n"
     ]
    },
    {
     "data": {
      "text/plain": [
       "GridSearchCV(cv=TimeSeriesSplit(max_train_size=None, n_splits=5),\n",
       "             error_score='raise-deprecating',\n",
       "             estimator=SVR(C=1.0, cache_size=200, coef0=0.0, degree=3,\n",
       "                           epsilon=0.1, gamma=0.1, kernel='rbf', max_iter=-1,\n",
       "                           shrinking=True, tol=0.001, verbose=False),\n",
       "             iid='warn', n_jobs=None,\n",
       "             param_grid={'C': [1.0, 10.0, 100.0, 1000.0],\n",
       "                         'gamma': array([1.e-02, 1.e-01, 1.e+00, 1.e+01, 1.e+02])},\n",
       "             pre_dispatch='2*n_jobs', refit=True, return_train_score=False,\n",
       "             scoring=None, verbose=2)"
      ]
     },
     "execution_count": 27,
     "metadata": {},
     "output_type": "execute_result"
    }
   ],
   "source": [
    "svr = GridSearchCV(SVR(kernel='rbf', gamma=0.1), cv=tscv,\n",
    "                   param_grid={\"C\": [1e0, 1e1, 1e2, 1e3],\n",
    "                               \"gamma\": np.logspace(-2, 2, 5)},\n",
    "                  verbose=2)\n",
    "svr.fit(X, y)"
   ]
  },
  {
   "cell_type": "code",
   "execution_count": 30,
   "metadata": {},
   "outputs": [
    {
     "data": {
      "text/plain": [
       "{'fit_time': array([0.0842936 , 0.33798003, 0.72288918, 1.2344892 , 1.90045857]),\n",
       " 'score_time': array([0.11950731, 0.29262972, 0.42215967, 0.54887486, 0.65088844]),\n",
       " 'test_r2': array([-0.05991941, -0.01094248,  0.00601931,  0.10494182, -0.07752949]),\n",
       " 'test_neg_mean_squared_error': array([-4.46846175, -3.39161274, -2.86100398, -1.56295987, -2.21662547])}"
      ]
     },
     "execution_count": 30,
     "metadata": {},
     "output_type": "execute_result"
    }
   ],
   "source": [
    "svr_best_scores = cross_validate(svr.best_estimator_, X, y, cv=tscv,\n",
    "                                 scoring=('r2', 'neg_mean_squared_error'))\n",
    "svr_best_scores"
   ]
  },
  {
   "cell_type": "code",
   "execution_count": 39,
   "metadata": {},
   "outputs": [
    {
     "name": "stdout",
     "output_type": "stream",
     "text": [
      "Fitting 5 folds for each of 6 candidates, totalling 30 fits\n",
      "[CV] alpha=0.1, tol=0.1 ..............................................\n",
      "[CV] ............................... alpha=0.1, tol=0.1, total=   0.0s\n",
      "[CV] alpha=0.1, tol=0.1 ..............................................\n",
      "[CV] ............................... alpha=0.1, tol=0.1, total=   0.0s\n",
      "[CV] alpha=0.1, tol=0.1 ..............................................\n",
      "[CV] ............................... alpha=0.1, tol=0.1, total=   0.0s\n",
      "[CV] alpha=0.1, tol=0.1 ..............................................\n",
      "[CV] ............................... alpha=0.1, tol=0.1, total=   0.0s\n",
      "[CV] alpha=0.1, tol=0.1 ..............................................\n",
      "[CV] ............................... alpha=0.1, tol=0.1, total=   0.0s\n",
      "[CV] alpha=0.1, tol=0.01 .............................................\n"
     ]
    },
    {
     "name": "stderr",
     "output_type": "stream",
     "text": [
      "[Parallel(n_jobs=1)]: Using backend SequentialBackend with 1 concurrent workers.\n",
      "[Parallel(n_jobs=1)]: Done   1 out of   1 | elapsed:    0.0s remaining:    0.0s\n"
     ]
    },
    {
     "name": "stdout",
     "output_type": "stream",
     "text": [
      "[CV] .............................. alpha=0.1, tol=0.01, total=   0.0s\n",
      "[CV] alpha=0.1, tol=0.01 .............................................\n",
      "[CV] .............................. alpha=0.1, tol=0.01, total=   0.0s\n",
      "[CV] alpha=0.1, tol=0.01 .............................................\n",
      "[CV] .............................. alpha=0.1, tol=0.01, total=   0.0s\n",
      "[CV] alpha=0.1, tol=0.01 .............................................\n",
      "[CV] .............................. alpha=0.1, tol=0.01, total=   0.0s\n",
      "[CV] alpha=0.1, tol=0.01 .............................................\n",
      "[CV] .............................. alpha=0.1, tol=0.01, total=   0.0s\n",
      "[CV] alpha=0.1, tol=0.001 ............................................\n",
      "[CV] ............................. alpha=0.1, tol=0.001, total=   0.0s\n",
      "[CV] alpha=0.1, tol=0.001 ............................................\n",
      "[CV] ............................. alpha=0.1, tol=0.001, total=   0.0s\n",
      "[CV] alpha=0.1, tol=0.001 ............................................\n",
      "[CV] ............................. alpha=0.1, tol=0.001, total=   0.1s\n",
      "[CV] alpha=0.1, tol=0.001 ............................................\n",
      "[CV] ............................. alpha=0.1, tol=0.001, total=   0.1s\n",
      "[CV] alpha=0.1, tol=0.001 ............................................\n",
      "[CV] ............................. alpha=0.1, tol=0.001, total=   0.1s\n",
      "[CV] alpha=0.2, tol=0.1 ..............................................\n",
      "[CV] ............................... alpha=0.2, tol=0.1, total=   0.0s\n",
      "[CV] alpha=0.2, tol=0.1 ..............................................\n",
      "[CV] ............................... alpha=0.2, tol=0.1, total=   0.0s\n",
      "[CV] alpha=0.2, tol=0.1 ..............................................\n",
      "[CV] ............................... alpha=0.2, tol=0.1, total=   0.0s\n",
      "[CV] alpha=0.2, tol=0.1 ..............................................\n",
      "[CV] ............................... alpha=0.2, tol=0.1, total=   0.0s\n",
      "[CV] alpha=0.2, tol=0.1 ..............................................\n",
      "[CV] ............................... alpha=0.2, tol=0.1, total=   0.0s\n",
      "[CV] alpha=0.2, tol=0.01 .............................................\n",
      "[CV] .............................. alpha=0.2, tol=0.01, total=   0.1s\n",
      "[CV] alpha=0.2, tol=0.01 .............................................\n",
      "[CV] .............................. alpha=0.2, tol=0.01, total=   0.0s\n",
      "[CV] alpha=0.2, tol=0.01 .............................................\n",
      "[CV] .............................. alpha=0.2, tol=0.01, total=   0.1s\n",
      "[CV] alpha=0.2, tol=0.01 .............................................\n",
      "[CV] .............................. alpha=0.2, tol=0.01, total=   0.1s\n",
      "[CV] alpha=0.2, tol=0.01 .............................................\n",
      "[CV] .............................. alpha=0.2, tol=0.01, total=   0.1s\n",
      "[CV] alpha=0.2, tol=0.001 ............................................\n",
      "[CV] ............................. alpha=0.2, tol=0.001, total=   0.0s\n",
      "[CV] alpha=0.2, tol=0.001 ............................................\n",
      "[CV] ............................. alpha=0.2, tol=0.001, total=   0.1s\n",
      "[CV] alpha=0.2, tol=0.001 ............................................\n",
      "[CV] ............................. alpha=0.2, tol=0.001, total=   0.1s\n",
      "[CV] alpha=0.2, tol=0.001 ............................................\n",
      "[CV] ............................. alpha=0.2, tol=0.001, total=   0.1s\n",
      "[CV] alpha=0.2, tol=0.001 ............................................\n",
      "[CV] ............................. alpha=0.2, tol=0.001, total=   0.1s\n"
     ]
    },
    {
     "name": "stderr",
     "output_type": "stream",
     "text": [
      "[Parallel(n_jobs=1)]: Done  30 out of  30 | elapsed:    1.4s finished\n"
     ]
    },
    {
     "data": {
      "text/plain": [
       "GridSearchCV(cv=TimeSeriesSplit(max_train_size=None, n_splits=5),\n",
       "             error_score='raise-deprecating',\n",
       "             estimator=Lasso(alpha=1.0, copy_X=True, fit_intercept=True,\n",
       "                             max_iter=1000, normalize=False, positive=False,\n",
       "                             precompute=False, random_state=None,\n",
       "                             selection='cyclic', tol=0.0001, warm_start=False),\n",
       "             iid='warn', n_jobs=None,\n",
       "             param_grid={'alpha': [0.1, 0.2], 'tol': [0.1, 0.01, 0.001]},\n",
       "             pre_dispatch='2*n_jobs', refit=True, return_train_score=False,\n",
       "             scoring='r2', verbose=2)"
      ]
     },
     "execution_count": 39,
     "metadata": {},
     "output_type": "execute_result"
    }
   ],
   "source": [
    "lasso_gs = GridSearchCV(Lasso(), cv=tscv,\n",
    "                        param_grid={\"alpha\": [0.1, 0.2],\n",
    "                               \"tol\": [1e-1, 1e-2, 1e-3]},\n",
    "                        scoring='r2',\n",
    "                        verbose=2)\n",
    "lasso_gs.fit(X, y)"
   ]
  },
  {
   "cell_type": "code",
   "execution_count": 41,
   "metadata": {},
   "outputs": [
    {
     "data": {
      "text/plain": [
       "{'fit_time': array([0.01410866, 0.03543711, 0.05132604, 0.03543782, 0.05294156]),\n",
       " 'score_time': array([0.01086736, 0.0076232 , 0.00358772, 0.0035975 , 0.00357509]),\n",
       " 'test_r2': array([0.82064588, 0.72493234, 0.78083908, 0.68142056, 0.65231449]),\n",
       " 'test_neg_mean_squared_error': array([-0.75613015, -0.92282499, -0.63081734, -0.55630673, -0.71523662])}"
      ]
     },
     "execution_count": 41,
     "metadata": {},
     "output_type": "execute_result"
    }
   ],
   "source": [
    "lasso_scores = cross_validate(lasso_gs.best_estimator_, X, y, cv=tscv,\n",
    "                                 scoring=('r2', 'neg_mean_squared_error'))\n",
    "lasso_scores"
   ]
  },
  {
   "cell_type": "code",
   "execution_count": 46,
   "metadata": {},
   "outputs": [
    {
     "data": {
      "text/plain": [
       "1827"
      ]
     },
     "execution_count": 46,
     "metadata": {},
     "output_type": "execute_result"
    }
   ],
   "source": [
    "lasso_gs.best_estimator_.fit(X, y)\n",
    "y_pred = lasso_gs.best_estimator_.predict(X)\n",
    "y_pred.size"
   ]
  },
  {
   "cell_type": "code",
   "execution_count": 50,
   "metadata": {},
   "outputs": [
    {
     "data": {
      "image/png": "[encoded data removed]",
      "text/plain": [
       "<Figure size 432x288 with 1 Axes>"
      ]
     },
     "metadata": {
      "needs_background": "light"
     },
     "output_type": "display_data"
    }
   ],
   "source": [
    "plt.plot(pd.to_datetime(red_df['Date']).values, red_df['MeanTemp'].values, label='GT')\n",
    "plt.plot(pd.to_datetime(red_df['Date']).values[365:], y_pred, c='red', label='Prediction')\n",
    "plt.legend(loc=(1.1,0.5))\n",
    "plt.show()"
   ]
  }
 ],
 "metadata": {
  "kernelspec": {
   "display_name": "Python 3",
   "language": "python",
   "name": "python3"
  },
  "language_info": {
   "codemirror_mode": {
    "name": "ipython",
    "version": 3
   },
   "file_extension": ".py",
   "mimetype": "text/x-python",
   "name": "python",
   "nbconvert_exporter": "python",
   "pygments_lexer": "ipython3",
   "version": "3.6.8"
  },
  "pycharm": {
   "stem_cell": {
    "cell_type": "raw",
    "metadata": {
     "collapsed": false
    },
    "source": []
   }
  }
 },
 "nbformat": 4,
 "nbformat_minor": 1
}
